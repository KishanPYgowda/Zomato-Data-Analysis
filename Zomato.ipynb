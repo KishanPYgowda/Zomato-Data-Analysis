{
 "cells": [
  {
   "cell_type": "markdown",
   "id": "faf825f9",
   "metadata": {},
   "source": [
    "# Zomato Data Analysis"
   ]
  },
  {
   "cell_type": "markdown",
   "id": "aaff55b6",
   "metadata": {},
   "source": [
    "  Business Requirment\n",
    "  \n",
    "  1. How many Restaurents providing Online delivery\n",
    "  2. Show the top 3 Countries where Zomato rooted strogly\n",
    "  3. show Top 3 cities in india where activity is high\n",
    "  4. Find the Costliest Restaurents\n",
    "  5. Find the Reataurents where cost is less than 5% of Costliest Restaurents\n",
    "  6. what are the Cuisines avilable in Reataurent 'Vikings'\n",
    "  7. Which is the Best Reastaurent in Delhi for Japanese Food\n",
    "  8. What is the 3rd highest cuisines ordered in USA\n",
    "  9. Find all Reataurents in India which has POOR rating\n",
    "  10. How many Customers Rated the Service\n",
    "  11. What is the Rating got by Reataurents in Delhi\n",
    "  12. In how many Cities Do zomato have Service in USA\n",
    "  13. Best Reataurents in Bangalore where Table Booking is Available"
   ]
  },
  {
   "cell_type": "code",
   "execution_count": 1,
   "id": "f00d1d11",
   "metadata": {},
   "outputs": [],
   "source": [
    "import pandas as pd\n",
    "import numpy as np\n",
    "import matplotlib.pyplot as plt\n",
    "import seaborn as sns"
   ]
  },
  {
   "cell_type": "code",
   "execution_count": 2,
   "id": "126a0cb1",
   "metadata": {},
   "outputs": [],
   "source": [
    "df= pd.read_csv(r'C:\\Users\\HP\\Desktop\\Kishan PY\\data analyst\\data sets\\zomato.csv', encoding='Latin')"
   ]
  },
  {
   "cell_type": "code",
   "execution_count": 3,
   "id": "81fc924a",
   "metadata": {},
   "outputs": [
    {
     "data": {
      "text/html": [
       "<div>\n",
       "<style scoped>\n",
       "    .dataframe tbody tr th:only-of-type {\n",
       "        vertical-align: middle;\n",
       "    }\n",
       "\n",
       "    .dataframe tbody tr th {\n",
       "        vertical-align: top;\n",
       "    }\n",
       "\n",
       "    .dataframe thead th {\n",
       "        text-align: right;\n",
       "    }\n",
       "</style>\n",
       "<table border=\"1\" class=\"dataframe\">\n",
       "  <thead>\n",
       "    <tr style=\"text-align: right;\">\n",
       "      <th></th>\n",
       "      <th>Restaurant ID</th>\n",
       "      <th>Restaurant Name</th>\n",
       "      <th>Country Code</th>\n",
       "      <th>City</th>\n",
       "      <th>Address</th>\n",
       "      <th>Locality</th>\n",
       "      <th>Locality Verbose</th>\n",
       "      <th>Longitude</th>\n",
       "      <th>Latitude</th>\n",
       "      <th>Cuisines</th>\n",
       "      <th>...</th>\n",
       "      <th>Currency</th>\n",
       "      <th>Has Table booking</th>\n",
       "      <th>Has Online delivery</th>\n",
       "      <th>Is delivering now</th>\n",
       "      <th>Switch to order menu</th>\n",
       "      <th>Price range</th>\n",
       "      <th>Aggregate rating</th>\n",
       "      <th>Rating color</th>\n",
       "      <th>Rating text</th>\n",
       "      <th>Votes</th>\n",
       "    </tr>\n",
       "  </thead>\n",
       "  <tbody>\n",
       "    <tr>\n",
       "      <th>0</th>\n",
       "      <td>6317637</td>\n",
       "      <td>Le Petit Souffle</td>\n",
       "      <td>162</td>\n",
       "      <td>Makati City</td>\n",
       "      <td>Third Floor, Century City Mall, Kalayaan Avenu...</td>\n",
       "      <td>Century City Mall, Poblacion, Makati City</td>\n",
       "      <td>Century City Mall, Poblacion, Makati City, Mak...</td>\n",
       "      <td>121.027535</td>\n",
       "      <td>14.565443</td>\n",
       "      <td>French, Japanese, Desserts</td>\n",
       "      <td>...</td>\n",
       "      <td>Botswana Pula(P)</td>\n",
       "      <td>Yes</td>\n",
       "      <td>No</td>\n",
       "      <td>No</td>\n",
       "      <td>No</td>\n",
       "      <td>3</td>\n",
       "      <td>4.8</td>\n",
       "      <td>Dark Green</td>\n",
       "      <td>Excellent</td>\n",
       "      <td>314</td>\n",
       "    </tr>\n",
       "    <tr>\n",
       "      <th>1</th>\n",
       "      <td>6304287</td>\n",
       "      <td>Izakaya Kikufuji</td>\n",
       "      <td>162</td>\n",
       "      <td>Makati City</td>\n",
       "      <td>Little Tokyo, 2277 Chino Roces Avenue, Legaspi...</td>\n",
       "      <td>Little Tokyo, Legaspi Village, Makati City</td>\n",
       "      <td>Little Tokyo, Legaspi Village, Makati City, Ma...</td>\n",
       "      <td>121.014101</td>\n",
       "      <td>14.553708</td>\n",
       "      <td>Japanese</td>\n",
       "      <td>...</td>\n",
       "      <td>Botswana Pula(P)</td>\n",
       "      <td>Yes</td>\n",
       "      <td>No</td>\n",
       "      <td>No</td>\n",
       "      <td>No</td>\n",
       "      <td>3</td>\n",
       "      <td>4.5</td>\n",
       "      <td>Dark Green</td>\n",
       "      <td>Excellent</td>\n",
       "      <td>591</td>\n",
       "    </tr>\n",
       "  </tbody>\n",
       "</table>\n",
       "<p>2 rows × 21 columns</p>\n",
       "</div>"
      ],
      "text/plain": [
       "   Restaurant ID   Restaurant Name  Country Code         City  \\\n",
       "0        6317637  Le Petit Souffle           162  Makati City   \n",
       "1        6304287  Izakaya Kikufuji           162  Makati City   \n",
       "\n",
       "                                             Address  \\\n",
       "0  Third Floor, Century City Mall, Kalayaan Avenu...   \n",
       "1  Little Tokyo, 2277 Chino Roces Avenue, Legaspi...   \n",
       "\n",
       "                                     Locality  \\\n",
       "0   Century City Mall, Poblacion, Makati City   \n",
       "1  Little Tokyo, Legaspi Village, Makati City   \n",
       "\n",
       "                                    Locality Verbose   Longitude   Latitude  \\\n",
       "0  Century City Mall, Poblacion, Makati City, Mak...  121.027535  14.565443   \n",
       "1  Little Tokyo, Legaspi Village, Makati City, Ma...  121.014101  14.553708   \n",
       "\n",
       "                     Cuisines  ...          Currency Has Table booking  \\\n",
       "0  French, Japanese, Desserts  ...  Botswana Pula(P)               Yes   \n",
       "1                    Japanese  ...  Botswana Pula(P)               Yes   \n",
       "\n",
       "  Has Online delivery Is delivering now Switch to order menu Price range  \\\n",
       "0                  No                No                   No           3   \n",
       "1                  No                No                   No           3   \n",
       "\n",
       "   Aggregate rating  Rating color Rating text Votes  \n",
       "0               4.8    Dark Green   Excellent   314  \n",
       "1               4.5    Dark Green   Excellent   591  \n",
       "\n",
       "[2 rows x 21 columns]"
      ]
     },
     "execution_count": 3,
     "metadata": {},
     "output_type": "execute_result"
    }
   ],
   "source": [
    "df.head(2)"
   ]
  },
  {
   "cell_type": "code",
   "execution_count": 4,
   "id": "f16c07e2",
   "metadata": {},
   "outputs": [],
   "source": [
    "df.drop(['Restaurant ID','Address','Locality','Longitude','Latitude','Locality Verbose','Switch to order menu','Votes','Is delivering now'], axis=1, inplace=True)"
   ]
  },
  {
   "cell_type": "code",
   "execution_count": 5,
   "id": "2ed4cea6",
   "metadata": {},
   "outputs": [
    {
     "data": {
      "text/html": [
       "<div>\n",
       "<style scoped>\n",
       "    .dataframe tbody tr th:only-of-type {\n",
       "        vertical-align: middle;\n",
       "    }\n",
       "\n",
       "    .dataframe tbody tr th {\n",
       "        vertical-align: top;\n",
       "    }\n",
       "\n",
       "    .dataframe thead th {\n",
       "        text-align: right;\n",
       "    }\n",
       "</style>\n",
       "<table border=\"1\" class=\"dataframe\">\n",
       "  <thead>\n",
       "    <tr style=\"text-align: right;\">\n",
       "      <th></th>\n",
       "      <th>Restaurant Name</th>\n",
       "      <th>Country Code</th>\n",
       "      <th>City</th>\n",
       "      <th>Cuisines</th>\n",
       "      <th>Average Cost for two</th>\n",
       "      <th>Currency</th>\n",
       "      <th>Has Table booking</th>\n",
       "      <th>Has Online delivery</th>\n",
       "      <th>Price range</th>\n",
       "      <th>Aggregate rating</th>\n",
       "      <th>Rating color</th>\n",
       "      <th>Rating text</th>\n",
       "    </tr>\n",
       "  </thead>\n",
       "  <tbody>\n",
       "    <tr>\n",
       "      <th>0</th>\n",
       "      <td>Le Petit Souffle</td>\n",
       "      <td>162</td>\n",
       "      <td>Makati City</td>\n",
       "      <td>French, Japanese, Desserts</td>\n",
       "      <td>1100</td>\n",
       "      <td>Botswana Pula(P)</td>\n",
       "      <td>Yes</td>\n",
       "      <td>No</td>\n",
       "      <td>3</td>\n",
       "      <td>4.8</td>\n",
       "      <td>Dark Green</td>\n",
       "      <td>Excellent</td>\n",
       "    </tr>\n",
       "    <tr>\n",
       "      <th>1</th>\n",
       "      <td>Izakaya Kikufuji</td>\n",
       "      <td>162</td>\n",
       "      <td>Makati City</td>\n",
       "      <td>Japanese</td>\n",
       "      <td>1200</td>\n",
       "      <td>Botswana Pula(P)</td>\n",
       "      <td>Yes</td>\n",
       "      <td>No</td>\n",
       "      <td>3</td>\n",
       "      <td>4.5</td>\n",
       "      <td>Dark Green</td>\n",
       "      <td>Excellent</td>\n",
       "    </tr>\n",
       "    <tr>\n",
       "      <th>2</th>\n",
       "      <td>Heat - Edsa Shangri-La</td>\n",
       "      <td>162</td>\n",
       "      <td>Mandaluyong City</td>\n",
       "      <td>Seafood, Asian, Filipino, Indian</td>\n",
       "      <td>4000</td>\n",
       "      <td>Botswana Pula(P)</td>\n",
       "      <td>Yes</td>\n",
       "      <td>No</td>\n",
       "      <td>4</td>\n",
       "      <td>4.4</td>\n",
       "      <td>Green</td>\n",
       "      <td>Very Good</td>\n",
       "    </tr>\n",
       "  </tbody>\n",
       "</table>\n",
       "</div>"
      ],
      "text/plain": [
       "          Restaurant Name  Country Code              City  \\\n",
       "0        Le Petit Souffle           162       Makati City   \n",
       "1        Izakaya Kikufuji           162       Makati City   \n",
       "2  Heat - Edsa Shangri-La           162  Mandaluyong City   \n",
       "\n",
       "                           Cuisines  Average Cost for two          Currency  \\\n",
       "0        French, Japanese, Desserts                  1100  Botswana Pula(P)   \n",
       "1                          Japanese                  1200  Botswana Pula(P)   \n",
       "2  Seafood, Asian, Filipino, Indian                  4000  Botswana Pula(P)   \n",
       "\n",
       "  Has Table booking Has Online delivery  Price range  Aggregate rating  \\\n",
       "0               Yes                  No            3               4.8   \n",
       "1               Yes                  No            3               4.5   \n",
       "2               Yes                  No            4               4.4   \n",
       "\n",
       "  Rating color Rating text  \n",
       "0   Dark Green   Excellent  \n",
       "1   Dark Green   Excellent  \n",
       "2        Green   Very Good  "
      ]
     },
     "execution_count": 5,
     "metadata": {},
     "output_type": "execute_result"
    }
   ],
   "source": [
    "df.head(3)"
   ]
  },
  {
   "cell_type": "code",
   "execution_count": 6,
   "id": "21eba1a3",
   "metadata": {},
   "outputs": [
    {
     "name": "stdout",
     "output_type": "stream",
     "text": [
      "<class 'pandas.core.frame.DataFrame'>\n",
      "RangeIndex: 9551 entries, 0 to 9550\n",
      "Data columns (total 12 columns):\n",
      " #   Column                Non-Null Count  Dtype  \n",
      "---  ------                --------------  -----  \n",
      " 0   Restaurant Name       9551 non-null   object \n",
      " 1   Country Code          9551 non-null   int64  \n",
      " 2   City                  9551 non-null   object \n",
      " 3   Cuisines              9542 non-null   object \n",
      " 4   Average Cost for two  9551 non-null   int64  \n",
      " 5   Currency              9551 non-null   object \n",
      " 6   Has Table booking     9551 non-null   object \n",
      " 7   Has Online delivery   9551 non-null   object \n",
      " 8   Price range           9551 non-null   int64  \n",
      " 9   Aggregate rating      9551 non-null   float64\n",
      " 10  Rating color          9551 non-null   object \n",
      " 11  Rating text           9551 non-null   object \n",
      "dtypes: float64(1), int64(3), object(8)\n",
      "memory usage: 895.5+ KB\n"
     ]
    }
   ],
   "source": [
    "df.info()"
   ]
  },
  {
   "cell_type": "code",
   "execution_count": 7,
   "id": "b3b7b4cd",
   "metadata": {},
   "outputs": [
    {
     "data": {
      "image/png": "[encoded data removed]",
      "text/plain": [
       "<Figure size 640x480 with 2 Axes>"
      ]
     },
     "metadata": {},
     "output_type": "display_data"
    }
   ],
   "source": [
    "sns.heatmap(df.isnull())\n",
    "plt.show()"
   ]
  },
  {
   "cell_type": "markdown",
   "id": "4820e582",
   "metadata": {},
   "source": [
    "# Replacing missing records"
   ]
  },
  {
   "cell_type": "code",
   "execution_count": 8,
   "id": "389d8ed0",
   "metadata": {},
   "outputs": [],
   "source": [
    "a = df['Cuisines'].value_counts().index[0]\n",
    "df['Cuisines'].fillna(a, inplace= True) "
   ]
  },
  {
   "cell_type": "code",
   "execution_count": 9,
   "id": "ef24c7ae",
   "metadata": {},
   "outputs": [
    {
     "name": "stdout",
     "output_type": "stream",
     "text": [
      "<class 'pandas.core.frame.DataFrame'>\n",
      "RangeIndex: 9551 entries, 0 to 9550\n",
      "Data columns (total 12 columns):\n",
      " #   Column                Non-Null Count  Dtype  \n",
      "---  ------                --------------  -----  \n",
      " 0   Restaurant Name       9551 non-null   object \n",
      " 1   Country Code          9551 non-null   int64  \n",
      " 2   City                  9551 non-null   object \n",
      " 3   Cuisines              9551 non-null   object \n",
      " 4   Average Cost for two  9551 non-null   int64  \n",
      " 5   Currency              9551 non-null   object \n",
      " 6   Has Table booking     9551 non-null   object \n",
      " 7   Has Online delivery   9551 non-null   object \n",
      " 8   Price range           9551 non-null   int64  \n",
      " 9   Aggregate rating      9551 non-null   float64\n",
      " 10  Rating color          9551 non-null   object \n",
      " 11  Rating text           9551 non-null   object \n",
      "dtypes: float64(1), int64(3), object(8)\n",
      "memory usage: 895.5+ KB\n"
     ]
    }
   ],
   "source": [
    "df.info()"
   ]
  },
  {
   "cell_type": "markdown",
   "id": "508139e3",
   "metadata": {},
   "source": [
    "# Check for Duplicate"
   ]
  },
  {
   "cell_type": "code",
   "execution_count": 10,
   "id": "75326caa",
   "metadata": {},
   "outputs": [
    {
     "data": {
      "text/plain": [
       "(9551, 12)"
      ]
     },
     "execution_count": 10,
     "metadata": {},
     "output_type": "execute_result"
    }
   ],
   "source": [
    "df.shape"
   ]
  },
  {
   "cell_type": "code",
   "execution_count": 11,
   "id": "b7bb0902",
   "metadata": {},
   "outputs": [
    {
     "data": {
      "text/html": [
       "<div>\n",
       "<style scoped>\n",
       "    .dataframe tbody tr th:only-of-type {\n",
       "        vertical-align: middle;\n",
       "    }\n",
       "\n",
       "    .dataframe tbody tr th {\n",
       "        vertical-align: top;\n",
       "    }\n",
       "\n",
       "    .dataframe thead th {\n",
       "        text-align: right;\n",
       "    }\n",
       "</style>\n",
       "<table border=\"1\" class=\"dataframe\">\n",
       "  <thead>\n",
       "    <tr style=\"text-align: right;\">\n",
       "      <th></th>\n",
       "      <th>Restaurant Name</th>\n",
       "      <th>Country Code</th>\n",
       "      <th>City</th>\n",
       "      <th>Cuisines</th>\n",
       "      <th>Average Cost for two</th>\n",
       "      <th>Currency</th>\n",
       "      <th>Has Table booking</th>\n",
       "      <th>Has Online delivery</th>\n",
       "      <th>Price range</th>\n",
       "      <th>Aggregate rating</th>\n",
       "      <th>Rating color</th>\n",
       "      <th>Rating text</th>\n",
       "    </tr>\n",
       "  </thead>\n",
       "  <tbody>\n",
       "    <tr>\n",
       "      <th>741</th>\n",
       "      <td>Onesta</td>\n",
       "      <td>1</td>\n",
       "      <td>Bangalore</td>\n",
       "      <td>Pizza, Cafe, Italian</td>\n",
       "      <td>600</td>\n",
       "      <td>Indian Rupees(Rs.)</td>\n",
       "      <td>No</td>\n",
       "      <td>No</td>\n",
       "      <td>2</td>\n",
       "      <td>4.6</td>\n",
       "      <td>Dark Green</td>\n",
       "      <td>Excellent</td>\n",
       "    </tr>\n",
       "    <tr>\n",
       "      <th>1003</th>\n",
       "      <td>The Chaiwalas</td>\n",
       "      <td>1</td>\n",
       "      <td>Faridabad</td>\n",
       "      <td>Cafe</td>\n",
       "      <td>300</td>\n",
       "      <td>Indian Rupees(Rs.)</td>\n",
       "      <td>No</td>\n",
       "      <td>No</td>\n",
       "      <td>1</td>\n",
       "      <td>0.0</td>\n",
       "      <td>White</td>\n",
       "      <td>Not rated</td>\n",
       "    </tr>\n",
       "    <tr>\n",
       "      <th>1053</th>\n",
       "      <td>Green Chick Chop</td>\n",
       "      <td>1</td>\n",
       "      <td>Faridabad</td>\n",
       "      <td>Raw Meats, North Indian, Fast Food</td>\n",
       "      <td>350</td>\n",
       "      <td>Indian Rupees(Rs.)</td>\n",
       "      <td>No</td>\n",
       "      <td>No</td>\n",
       "      <td>1</td>\n",
       "      <td>3.1</td>\n",
       "      <td>Orange</td>\n",
       "      <td>Average</td>\n",
       "    </tr>\n",
       "    <tr>\n",
       "      <th>1497</th>\n",
       "      <td>Subway</td>\n",
       "      <td>1</td>\n",
       "      <td>Gurgaon</td>\n",
       "      <td>American, Fast Food, Salad, Healthy Food</td>\n",
       "      <td>500</td>\n",
       "      <td>Indian Rupees(Rs.)</td>\n",
       "      <td>No</td>\n",
       "      <td>Yes</td>\n",
       "      <td>2</td>\n",
       "      <td>2.8</td>\n",
       "      <td>Orange</td>\n",
       "      <td>Average</td>\n",
       "    </tr>\n",
       "    <tr>\n",
       "      <th>1532</th>\n",
       "      <td>Cafe Coffee Day</td>\n",
       "      <td>1</td>\n",
       "      <td>Gurgaon</td>\n",
       "      <td>Cafe</td>\n",
       "      <td>450</td>\n",
       "      <td>Indian Rupees(Rs.)</td>\n",
       "      <td>No</td>\n",
       "      <td>No</td>\n",
       "      <td>1</td>\n",
       "      <td>3.1</td>\n",
       "      <td>Orange</td>\n",
       "      <td>Average</td>\n",
       "    </tr>\n",
       "    <tr>\n",
       "      <th>...</th>\n",
       "      <td>...</td>\n",
       "      <td>...</td>\n",
       "      <td>...</td>\n",
       "      <td>...</td>\n",
       "      <td>...</td>\n",
       "      <td>...</td>\n",
       "      <td>...</td>\n",
       "      <td>...</td>\n",
       "      <td>...</td>\n",
       "      <td>...</td>\n",
       "      <td>...</td>\n",
       "      <td>...</td>\n",
       "    </tr>\n",
       "    <tr>\n",
       "      <th>9073</th>\n",
       "      <td>Cafe Coffee Day</td>\n",
       "      <td>1</td>\n",
       "      <td>Noida</td>\n",
       "      <td>Cafe</td>\n",
       "      <td>450</td>\n",
       "      <td>Indian Rupees(Rs.)</td>\n",
       "      <td>No</td>\n",
       "      <td>No</td>\n",
       "      <td>1</td>\n",
       "      <td>2.7</td>\n",
       "      <td>Orange</td>\n",
       "      <td>Average</td>\n",
       "    </tr>\n",
       "    <tr>\n",
       "      <th>9074</th>\n",
       "      <td>Cafe Coffee Day</td>\n",
       "      <td>1</td>\n",
       "      <td>Noida</td>\n",
       "      <td>Cafe</td>\n",
       "      <td>450</td>\n",
       "      <td>Indian Rupees(Rs.)</td>\n",
       "      <td>No</td>\n",
       "      <td>No</td>\n",
       "      <td>1</td>\n",
       "      <td>2.7</td>\n",
       "      <td>Orange</td>\n",
       "      <td>Average</td>\n",
       "    </tr>\n",
       "    <tr>\n",
       "      <th>9093</th>\n",
       "      <td>Nazeer Foods</td>\n",
       "      <td>1</td>\n",
       "      <td>Noida</td>\n",
       "      <td>Mughlai, North Indian</td>\n",
       "      <td>600</td>\n",
       "      <td>Indian Rupees(Rs.)</td>\n",
       "      <td>No</td>\n",
       "      <td>Yes</td>\n",
       "      <td>2</td>\n",
       "      <td>3.6</td>\n",
       "      <td>Yellow</td>\n",
       "      <td>Good</td>\n",
       "    </tr>\n",
       "    <tr>\n",
       "      <th>9291</th>\n",
       "      <td>Talaga Sampireun</td>\n",
       "      <td>94</td>\n",
       "      <td>Jakarta</td>\n",
       "      <td>Sunda, Indonesian</td>\n",
       "      <td>200000</td>\n",
       "      <td>Indonesian Rupiah(IDR)</td>\n",
       "      <td>No</td>\n",
       "      <td>No</td>\n",
       "      <td>3</td>\n",
       "      <td>4.9</td>\n",
       "      <td>Dark Green</td>\n",
       "      <td>Excellent</td>\n",
       "    </tr>\n",
       "    <tr>\n",
       "      <th>9528</th>\n",
       "      <td>Timboo Cafe</td>\n",
       "      <td>208</td>\n",
       "      <td>Ankara</td>\n",
       "      <td>Cafe</td>\n",
       "      <td>70</td>\n",
       "      <td>Turkish Lira(TL)</td>\n",
       "      <td>No</td>\n",
       "      <td>No</td>\n",
       "      <td>3</td>\n",
       "      <td>4.2</td>\n",
       "      <td>Green</td>\n",
       "      <td>Very Good</td>\n",
       "    </tr>\n",
       "  </tbody>\n",
       "</table>\n",
       "<p>338 rows × 12 columns</p>\n",
       "</div>"
      ],
      "text/plain": [
       "       Restaurant Name  Country Code       City  \\\n",
       "741             Onesta             1  Bangalore   \n",
       "1003     The Chaiwalas             1  Faridabad   \n",
       "1053  Green Chick Chop             1  Faridabad   \n",
       "1497            Subway             1    Gurgaon   \n",
       "1532   Cafe Coffee Day             1    Gurgaon   \n",
       "...                ...           ...        ...   \n",
       "9073   Cafe Coffee Day             1      Noida   \n",
       "9074   Cafe Coffee Day             1      Noida   \n",
       "9093      Nazeer Foods             1      Noida   \n",
       "9291  Talaga Sampireun            94    Jakarta   \n",
       "9528       Timboo Cafe           208     Ankara   \n",
       "\n",
       "                                      Cuisines  Average Cost for two  \\\n",
       "741                       Pizza, Cafe, Italian                   600   \n",
       "1003                                      Cafe                   300   \n",
       "1053        Raw Meats, North Indian, Fast Food                   350   \n",
       "1497  American, Fast Food, Salad, Healthy Food                   500   \n",
       "1532                                      Cafe                   450   \n",
       "...                                        ...                   ...   \n",
       "9073                                      Cafe                   450   \n",
       "9074                                      Cafe                   450   \n",
       "9093                     Mughlai, North Indian                   600   \n",
       "9291                         Sunda, Indonesian                200000   \n",
       "9528                                      Cafe                    70   \n",
       "\n",
       "                    Currency Has Table booking Has Online delivery  \\\n",
       "741       Indian Rupees(Rs.)                No                  No   \n",
       "1003      Indian Rupees(Rs.)                No                  No   \n",
       "1053      Indian Rupees(Rs.)                No                  No   \n",
       "1497      Indian Rupees(Rs.)                No                 Yes   \n",
       "1532      Indian Rupees(Rs.)                No                  No   \n",
       "...                      ...               ...                 ...   \n",
       "9073      Indian Rupees(Rs.)                No                  No   \n",
       "9074      Indian Rupees(Rs.)                No                  No   \n",
       "9093      Indian Rupees(Rs.)                No                 Yes   \n",
       "9291  Indonesian Rupiah(IDR)                No                  No   \n",
       "9528        Turkish Lira(TL)                No                  No   \n",
       "\n",
       "      Price range  Aggregate rating Rating color Rating text  \n",
       "741             2               4.6   Dark Green   Excellent  \n",
       "1003            1               0.0        White   Not rated  \n",
       "1053            1               3.1       Orange     Average  \n",
       "1497            2               2.8       Orange     Average  \n",
       "1532            1               3.1       Orange     Average  \n",
       "...           ...               ...          ...         ...  \n",
       "9073            1               2.7       Orange     Average  \n",
       "9074            1               2.7       Orange     Average  \n",
       "9093            2               3.6       Yellow        Good  \n",
       "9291            3               4.9   Dark Green   Excellent  \n",
       "9528            3               4.2        Green   Very Good  \n",
       "\n",
       "[338 rows x 12 columns]"
      ]
     },
     "execution_count": 11,
     "metadata": {},
     "output_type": "execute_result"
    }
   ],
   "source": [
    "df[df.duplicated()]"
   ]
  },
  {
   "cell_type": "code",
   "execution_count": 12,
   "id": "f16638c3",
   "metadata": {},
   "outputs": [],
   "source": [
    "df.drop_duplicates(inplace=True)"
   ]
  },
  {
   "cell_type": "code",
   "execution_count": 13,
   "id": "125341e6",
   "metadata": {},
   "outputs": [
    {
     "data": {
      "text/plain": [
       "(9213, 12)"
      ]
     },
     "execution_count": 13,
     "metadata": {},
     "output_type": "execute_result"
    }
   ],
   "source": [
    "df.shape"
   ]
  },
  {
   "cell_type": "markdown",
   "id": "a79a5740",
   "metadata": {},
   "source": [
    "# Encoding country code"
   ]
  },
  {
   "cell_type": "code",
   "execution_count": 14,
   "id": "32e48389",
   "metadata": {},
   "outputs": [
    {
     "data": {
      "text/plain": [
       "1      8316\n",
       "216     434\n",
       "215      80\n",
       "30       60\n",
       "214      60\n",
       "189      60\n",
       "148      40\n",
       "208      33\n",
       "14       24\n",
       "162      22\n",
       "184      20\n",
       "94       20\n",
       "166      20\n",
       "191      20\n",
       "37        4\n",
       "Name: Country Code, dtype: int64"
      ]
     },
     "execution_count": 14,
     "metadata": {},
     "output_type": "execute_result"
    }
   ],
   "source": [
    "df['Country Code'].value_counts()"
   ]
  },
  {
   "cell_type": "code",
   "execution_count": 15,
   "id": "d360aebe",
   "metadata": {},
   "outputs": [],
   "source": [
    "df['Country Code']=df['Country Code'].replace(1,91)"
   ]
  },
  {
   "cell_type": "code",
   "execution_count": 16,
   "id": "c6894d29",
   "metadata": {},
   "outputs": [
    {
     "data": {
      "text/plain": [
       "91     8316\n",
       "216     434\n",
       "Name: Country Code, dtype: int64"
      ]
     },
     "execution_count": 16,
     "metadata": {},
     "output_type": "execute_result"
    }
   ],
   "source": [
    "df['Country Code'].value_counts().head(2)"
   ]
  },
  {
   "cell_type": "code",
   "execution_count": 17,
   "id": "967056d0",
   "metadata": {},
   "outputs": [],
   "source": [
    "codes={ 91:'India',216:'USA',215:'UK',30:'Brazil',214:'UAE',189:'canada',148:'newzealand',208:'Turky',14:'Bostwana',162:'indonasia',184:'Iraq',94:'Srilanka',166:'Azerbaijan',191:'argentina',37:'others'}"
   ]
  },
  {
   "cell_type": "code",
   "execution_count": 18,
   "id": "bf1335b6",
   "metadata": {},
   "outputs": [],
   "source": [
    "df['country'] = df['Country Code'].map(codes)"
   ]
  },
  {
   "cell_type": "code",
   "execution_count": 19,
   "id": "f0f09a00",
   "metadata": {},
   "outputs": [],
   "source": [
    "df.drop(['Country Code'], axis=1, inplace=True)"
   ]
  },
  {
   "cell_type": "code",
   "execution_count": 20,
   "id": "f9727cb7",
   "metadata": {},
   "outputs": [
    {
     "data": {
      "text/html": [
       "<div>\n",
       "<style scoped>\n",
       "    .dataframe tbody tr th:only-of-type {\n",
       "        vertical-align: middle;\n",
       "    }\n",
       "\n",
       "    .dataframe tbody tr th {\n",
       "        vertical-align: top;\n",
       "    }\n",
       "\n",
       "    .dataframe thead th {\n",
       "        text-align: right;\n",
       "    }\n",
       "</style>\n",
       "<table border=\"1\" class=\"dataframe\">\n",
       "  <thead>\n",
       "    <tr style=\"text-align: right;\">\n",
       "      <th></th>\n",
       "      <th>Restaurant Name</th>\n",
       "      <th>City</th>\n",
       "      <th>Cuisines</th>\n",
       "      <th>Average Cost for two</th>\n",
       "      <th>Currency</th>\n",
       "      <th>Has Table booking</th>\n",
       "      <th>Has Online delivery</th>\n",
       "      <th>Price range</th>\n",
       "      <th>Aggregate rating</th>\n",
       "      <th>Rating color</th>\n",
       "      <th>Rating text</th>\n",
       "      <th>country</th>\n",
       "    </tr>\n",
       "  </thead>\n",
       "  <tbody>\n",
       "    <tr>\n",
       "      <th>0</th>\n",
       "      <td>Le Petit Souffle</td>\n",
       "      <td>Makati City</td>\n",
       "      <td>French, Japanese, Desserts</td>\n",
       "      <td>1100</td>\n",
       "      <td>Botswana Pula(P)</td>\n",
       "      <td>Yes</td>\n",
       "      <td>No</td>\n",
       "      <td>3</td>\n",
       "      <td>4.8</td>\n",
       "      <td>Dark Green</td>\n",
       "      <td>Excellent</td>\n",
       "      <td>indonasia</td>\n",
       "    </tr>\n",
       "    <tr>\n",
       "      <th>1</th>\n",
       "      <td>Izakaya Kikufuji</td>\n",
       "      <td>Makati City</td>\n",
       "      <td>Japanese</td>\n",
       "      <td>1200</td>\n",
       "      <td>Botswana Pula(P)</td>\n",
       "      <td>Yes</td>\n",
       "      <td>No</td>\n",
       "      <td>3</td>\n",
       "      <td>4.5</td>\n",
       "      <td>Dark Green</td>\n",
       "      <td>Excellent</td>\n",
       "      <td>indonasia</td>\n",
       "    </tr>\n",
       "    <tr>\n",
       "      <th>2</th>\n",
       "      <td>Heat - Edsa Shangri-La</td>\n",
       "      <td>Mandaluyong City</td>\n",
       "      <td>Seafood, Asian, Filipino, Indian</td>\n",
       "      <td>4000</td>\n",
       "      <td>Botswana Pula(P)</td>\n",
       "      <td>Yes</td>\n",
       "      <td>No</td>\n",
       "      <td>4</td>\n",
       "      <td>4.4</td>\n",
       "      <td>Green</td>\n",
       "      <td>Very Good</td>\n",
       "      <td>indonasia</td>\n",
       "    </tr>\n",
       "    <tr>\n",
       "      <th>3</th>\n",
       "      <td>Ooma</td>\n",
       "      <td>Mandaluyong City</td>\n",
       "      <td>Japanese, Sushi</td>\n",
       "      <td>1500</td>\n",
       "      <td>Botswana Pula(P)</td>\n",
       "      <td>No</td>\n",
       "      <td>No</td>\n",
       "      <td>4</td>\n",
       "      <td>4.9</td>\n",
       "      <td>Dark Green</td>\n",
       "      <td>Excellent</td>\n",
       "      <td>indonasia</td>\n",
       "    </tr>\n",
       "  </tbody>\n",
       "</table>\n",
       "</div>"
      ],
      "text/plain": [
       "          Restaurant Name              City                          Cuisines  \\\n",
       "0        Le Petit Souffle       Makati City        French, Japanese, Desserts   \n",
       "1        Izakaya Kikufuji       Makati City                          Japanese   \n",
       "2  Heat - Edsa Shangri-La  Mandaluyong City  Seafood, Asian, Filipino, Indian   \n",
       "3                    Ooma  Mandaluyong City                   Japanese, Sushi   \n",
       "\n",
       "   Average Cost for two          Currency Has Table booking  \\\n",
       "0                  1100  Botswana Pula(P)               Yes   \n",
       "1                  1200  Botswana Pula(P)               Yes   \n",
       "2                  4000  Botswana Pula(P)               Yes   \n",
       "3                  1500  Botswana Pula(P)                No   \n",
       "\n",
       "  Has Online delivery  Price range  Aggregate rating Rating color Rating text  \\\n",
       "0                  No            3               4.8   Dark Green   Excellent   \n",
       "1                  No            3               4.5   Dark Green   Excellent   \n",
       "2                  No            4               4.4        Green   Very Good   \n",
       "3                  No            4               4.9   Dark Green   Excellent   \n",
       "\n",
       "     country  \n",
       "0  indonasia  \n",
       "1  indonasia  \n",
       "2  indonasia  \n",
       "3  indonasia  "
      ]
     },
     "execution_count": 20,
     "metadata": {},
     "output_type": "execute_result"
    }
   ],
   "source": [
    "df.head(4)"
   ]
  },
  {
   "cell_type": "code",
   "execution_count": 21,
   "id": "05940198",
   "metadata": {},
   "outputs": [
    {
     "name": "stdout",
     "output_type": "stream",
     "text": [
      "<class 'pandas.core.frame.DataFrame'>\n",
      "Int64Index: 9213 entries, 0 to 9550\n",
      "Data columns (total 12 columns):\n",
      " #   Column                Non-Null Count  Dtype  \n",
      "---  ------                --------------  -----  \n",
      " 0   Restaurant Name       9213 non-null   object \n",
      " 1   City                  9213 non-null   object \n",
      " 2   Cuisines              9213 non-null   object \n",
      " 3   Average Cost for two  9213 non-null   int64  \n",
      " 4   Currency              9213 non-null   object \n",
      " 5   Has Table booking     9213 non-null   object \n",
      " 6   Has Online delivery   9213 non-null   object \n",
      " 7   Price range           9213 non-null   int64  \n",
      " 8   Aggregate rating      9213 non-null   float64\n",
      " 9   Rating color          9213 non-null   object \n",
      " 10  Rating text           9213 non-null   object \n",
      " 11  country               9213 non-null   object \n",
      "dtypes: float64(1), int64(2), object(9)\n",
      "memory usage: 935.7+ KB\n"
     ]
    }
   ],
   "source": [
    "df.info()"
   ]
  },
  {
   "cell_type": "markdown",
   "id": "e3a15450",
   "metadata": {},
   "source": [
    "# 1. Percentage of Restaurants delivering Online "
   ]
  },
  {
   "cell_type": "code",
   "execution_count": 22,
   "id": "e1e074ed",
   "metadata": {},
   "outputs": [
    {
     "data": {
      "text/plain": [
       "No     6872\n",
       "Yes    2341\n",
       "Name: Has Online delivery, dtype: int64"
      ]
     },
     "execution_count": 22,
     "metadata": {},
     "output_type": "execute_result"
    }
   ],
   "source": [
    "b = df['Has Online delivery'].value_counts()\n",
    "b"
   ]
  },
  {
   "cell_type": "code",
   "execution_count": 23,
   "id": "f1bd4f34",
   "metadata": {},
   "outputs": [
    {
     "data": {
      "image/png": "[encoded data removed]",
      "text/plain": [
       "<Figure size 500x300 with 1 Axes>"
      ]
     },
     "metadata": {},
     "output_type": "display_data"
    }
   ],
   "source": [
    "plt.figure(figsize=(5,3))\n",
    "plt.pie(b, labels=b.index, autopct= \"%1.2f%%\", explode=[0.1,0])\n",
    "plt.show()"
   ]
  },
  {
   "cell_type": "markdown",
   "id": "9b62f8db",
   "metadata": {},
   "source": [
    "# 2. Find Top 3 Countries where zomato rooted well"
   ]
  },
  {
   "cell_type": "markdown",
   "id": "9a4202ab",
   "metadata": {},
   "source": [
    "First way : using Count function"
   ]
  },
  {
   "cell_type": "code",
   "execution_count": 24,
   "id": "a214de70",
   "metadata": {},
   "outputs": [
    {
     "data": {
      "text/plain": [
       "India    8316\n",
       "USA       434\n",
       "UK         80\n",
       "Name: country, dtype: int64"
      ]
     },
     "execution_count": 24,
     "metadata": {},
     "output_type": "execute_result"
    }
   ],
   "source": [
    "c= df['country'].value_counts()[:3]\n",
    "c"
   ]
  },
  {
   "cell_type": "markdown",
   "id": "2cf7472c",
   "metadata": {},
   "source": [
    "Second way : Using Group function"
   ]
  },
  {
   "cell_type": "code",
   "execution_count": 25,
   "id": "1e8277c7",
   "metadata": {},
   "outputs": [
    {
     "data": {
      "text/html": [
       "<div>\n",
       "<style scoped>\n",
       "    .dataframe tbody tr th:only-of-type {\n",
       "        vertical-align: middle;\n",
       "    }\n",
       "\n",
       "    .dataframe tbody tr th {\n",
       "        vertical-align: top;\n",
       "    }\n",
       "\n",
       "    .dataframe thead th {\n",
       "        text-align: right;\n",
       "    }\n",
       "</style>\n",
       "<table border=\"1\" class=\"dataframe\">\n",
       "  <thead>\n",
       "    <tr style=\"text-align: right;\">\n",
       "      <th></th>\n",
       "      <th>country</th>\n",
       "      <th>count</th>\n",
       "    </tr>\n",
       "  </thead>\n",
       "  <tbody>\n",
       "    <tr>\n",
       "      <th>3</th>\n",
       "      <td>India</td>\n",
       "      <td>8316</td>\n",
       "    </tr>\n",
       "    <tr>\n",
       "      <th>9</th>\n",
       "      <td>USA</td>\n",
       "      <td>434</td>\n",
       "    </tr>\n",
       "    <tr>\n",
       "      <th>8</th>\n",
       "      <td>UK</td>\n",
       "      <td>80</td>\n",
       "    </tr>\n",
       "    <tr>\n",
       "      <th>2</th>\n",
       "      <td>Brazil</td>\n",
       "      <td>60</td>\n",
       "    </tr>\n",
       "  </tbody>\n",
       "</table>\n",
       "</div>"
      ],
      "text/plain": [
       "  country  count\n",
       "3   India   8316\n",
       "9     USA    434\n",
       "8      UK     80\n",
       "2  Brazil     60"
      ]
     },
     "execution_count": 25,
     "metadata": {},
     "output_type": "execute_result"
    }
   ],
   "source": [
    "d=df.groupby(['country']).size().reset_index().rename(columns={0:'count'}).sort_values('count',ascending=False)\n",
    "d.head(4)"
   ]
  },
  {
   "cell_type": "code",
   "execution_count": 26,
   "id": "6551ac1f",
   "metadata": {},
   "outputs": [
    {
     "data": {
      "image/png": "[encoded data removed]",
      "text/plain": [
       "<Figure size 640x480 with 2 Axes>"
      ]
     },
     "metadata": {},
     "output_type": "display_data"
    }
   ],
   "source": [
    "plt.subplot(1,2,1)\n",
    "plt.pie(c.values,labels=c.index, autopct= \"%1.2f%%\")\n",
    "plt.title('Using Count')\n",
    "plt.subplot(1,2,2)\n",
    "plt.pie(d['count'][:3],labels=d['country'][:3], autopct= \"%1.2f%%\")\n",
    "plt.title('Using Group')\n",
    "plt.show()"
   ]
  },
  {
   "cell_type": "markdown",
   "id": "2557bd6f",
   "metadata": {},
   "source": [
    "# 3. Find Top 3 cities in India where Activity is high"
   ]
  },
  {
   "cell_type": "code",
   "execution_count": 27,
   "id": "d4448654",
   "metadata": {},
   "outputs": [
    {
     "data": {
      "text/plain": [
       "New Delhi    5211\n",
       "Gurgaon      1089\n",
       "Noida        1041\n",
       "Name: City, dtype: int64"
      ]
     },
     "execution_count": 27,
     "metadata": {},
     "output_type": "execute_result"
    }
   ],
   "source": [
    "e=df[df['country']=='India']['City'].value_counts()\n",
    "e.head(3)"
   ]
  },
  {
   "cell_type": "code",
   "execution_count": 28,
   "id": "5121d350",
   "metadata": {},
   "outputs": [
    {
     "data": {
      "image/png": "[encoded data removed]",
      "text/plain": [
       "<Figure size 500x300 with 1 Axes>"
      ]
     },
     "metadata": {},
     "output_type": "display_data"
    }
   ],
   "source": [
    "plt.figure(figsize=(5,3))\n",
    "plt.pie(e.values[:3],labels=e.index[:3],autopct= \"%1.2f%%\")\n",
    "plt.show()"
   ]
  },
  {
   "cell_type": "code",
   "execution_count": 29,
   "id": "7b6b25db",
   "metadata": {},
   "outputs": [
    {
     "data": {
      "text/html": [
       "<div>\n",
       "<style scoped>\n",
       "    .dataframe tbody tr th:only-of-type {\n",
       "        vertical-align: middle;\n",
       "    }\n",
       "\n",
       "    .dataframe tbody tr th {\n",
       "        vertical-align: top;\n",
       "    }\n",
       "\n",
       "    .dataframe thead th {\n",
       "        text-align: right;\n",
       "    }\n",
       "</style>\n",
       "<table border=\"1\" class=\"dataframe\">\n",
       "  <thead>\n",
       "    <tr style=\"text-align: right;\">\n",
       "      <th></th>\n",
       "      <th>Restaurant Name</th>\n",
       "      <th>City</th>\n",
       "      <th>Cuisines</th>\n",
       "      <th>Average Cost for two</th>\n",
       "      <th>Currency</th>\n",
       "      <th>Has Table booking</th>\n",
       "      <th>Has Online delivery</th>\n",
       "      <th>Price range</th>\n",
       "      <th>Aggregate rating</th>\n",
       "      <th>Rating color</th>\n",
       "      <th>Rating text</th>\n",
       "      <th>country</th>\n",
       "    </tr>\n",
       "  </thead>\n",
       "  <tbody>\n",
       "    <tr>\n",
       "      <th>0</th>\n",
       "      <td>Le Petit Souffle</td>\n",
       "      <td>Makati City</td>\n",
       "      <td>French, Japanese, Desserts</td>\n",
       "      <td>1100</td>\n",
       "      <td>Botswana Pula(P)</td>\n",
       "      <td>Yes</td>\n",
       "      <td>No</td>\n",
       "      <td>3</td>\n",
       "      <td>4.8</td>\n",
       "      <td>Dark Green</td>\n",
       "      <td>Excellent</td>\n",
       "      <td>indonasia</td>\n",
       "    </tr>\n",
       "    <tr>\n",
       "      <th>1</th>\n",
       "      <td>Izakaya Kikufuji</td>\n",
       "      <td>Makati City</td>\n",
       "      <td>Japanese</td>\n",
       "      <td>1200</td>\n",
       "      <td>Botswana Pula(P)</td>\n",
       "      <td>Yes</td>\n",
       "      <td>No</td>\n",
       "      <td>3</td>\n",
       "      <td>4.5</td>\n",
       "      <td>Dark Green</td>\n",
       "      <td>Excellent</td>\n",
       "      <td>indonasia</td>\n",
       "    </tr>\n",
       "    <tr>\n",
       "      <th>2</th>\n",
       "      <td>Heat - Edsa Shangri-La</td>\n",
       "      <td>Mandaluyong City</td>\n",
       "      <td>Seafood, Asian, Filipino, Indian</td>\n",
       "      <td>4000</td>\n",
       "      <td>Botswana Pula(P)</td>\n",
       "      <td>Yes</td>\n",
       "      <td>No</td>\n",
       "      <td>4</td>\n",
       "      <td>4.4</td>\n",
       "      <td>Green</td>\n",
       "      <td>Very Good</td>\n",
       "      <td>indonasia</td>\n",
       "    </tr>\n",
       "  </tbody>\n",
       "</table>\n",
       "</div>"
      ],
      "text/plain": [
       "          Restaurant Name              City                          Cuisines  \\\n",
       "0        Le Petit Souffle       Makati City        French, Japanese, Desserts   \n",
       "1        Izakaya Kikufuji       Makati City                          Japanese   \n",
       "2  Heat - Edsa Shangri-La  Mandaluyong City  Seafood, Asian, Filipino, Indian   \n",
       "\n",
       "   Average Cost for two          Currency Has Table booking  \\\n",
       "0                  1100  Botswana Pula(P)               Yes   \n",
       "1                  1200  Botswana Pula(P)               Yes   \n",
       "2                  4000  Botswana Pula(P)               Yes   \n",
       "\n",
       "  Has Online delivery  Price range  Aggregate rating Rating color Rating text  \\\n",
       "0                  No            3               4.8   Dark Green   Excellent   \n",
       "1                  No            3               4.5   Dark Green   Excellent   \n",
       "2                  No            4               4.4        Green   Very Good   \n",
       "\n",
       "     country  \n",
       "0  indonasia  \n",
       "1  indonasia  \n",
       "2  indonasia  "
      ]
     },
     "execution_count": 29,
     "metadata": {},
     "output_type": "execute_result"
    }
   ],
   "source": [
    "df.head(3)"
   ]
  },
  {
   "cell_type": "markdown",
   "id": "539d230f",
   "metadata": {},
   "source": [
    "# 4. Find the 5 costliest Restaurant "
   ]
  },
  {
   "cell_type": "code",
   "execution_count": 30,
   "id": "78159f1d",
   "metadata": {},
   "outputs": [
    {
     "data": {
      "text/html": [
       "<div>\n",
       "<style scoped>\n",
       "    .dataframe tbody tr th:only-of-type {\n",
       "        vertical-align: middle;\n",
       "    }\n",
       "\n",
       "    .dataframe tbody tr th {\n",
       "        vertical-align: top;\n",
       "    }\n",
       "\n",
       "    .dataframe thead th {\n",
       "        text-align: right;\n",
       "    }\n",
       "</style>\n",
       "<table border=\"1\" class=\"dataframe\">\n",
       "  <thead>\n",
       "    <tr style=\"text-align: right;\">\n",
       "      <th></th>\n",
       "      <th>Restaurant Name</th>\n",
       "      <th>Average Cost for two</th>\n",
       "    </tr>\n",
       "  </thead>\n",
       "  <tbody>\n",
       "    <tr>\n",
       "      <th>9284</th>\n",
       "      <td>Satoo - Hotel Shangri-La</td>\n",
       "      <td>800000</td>\n",
       "    </tr>\n",
       "    <tr>\n",
       "      <th>9283</th>\n",
       "      <td>Skye</td>\n",
       "      <td>800000</td>\n",
       "    </tr>\n",
       "    <tr>\n",
       "      <th>9287</th>\n",
       "      <td>Sushi Masa</td>\n",
       "      <td>500000</td>\n",
       "    </tr>\n",
       "    <tr>\n",
       "      <th>9289</th>\n",
       "      <td>3 Wise Monkeys</td>\n",
       "      <td>450000</td>\n",
       "    </tr>\n",
       "    <tr>\n",
       "      <th>9294</th>\n",
       "      <td>Avec Moi Restaurant and Bar</td>\n",
       "      <td>350000</td>\n",
       "    </tr>\n",
       "  </tbody>\n",
       "</table>\n",
       "</div>"
      ],
      "text/plain": [
       "                  Restaurant Name  Average Cost for two\n",
       "9284     Satoo - Hotel Shangri-La                800000\n",
       "9283                         Skye                800000\n",
       "9287                   Sushi Masa                500000\n",
       "9289               3 Wise Monkeys                450000\n",
       "9294  Avec Moi Restaurant and Bar                350000"
      ]
     },
     "execution_count": 30,
     "metadata": {},
     "output_type": "execute_result"
    }
   ],
   "source": [
    "f=df[['Restaurant Name','Average Cost for two']].sort_values('Average Cost for two',ascending=False)[:5]\n",
    "f"
   ]
  },
  {
   "cell_type": "markdown",
   "id": "204f8b1c",
   "metadata": {},
   "source": [
    "# 5. Show all the Restaurants where Cost is less than 5% of   Costliest Restaurant"
   ]
  },
  {
   "cell_type": "code",
   "execution_count": 31,
   "id": "dba042a6",
   "metadata": {},
   "outputs": [
    {
     "data": {
      "text/plain": [
       "40000"
      ]
     },
     "execution_count": 31,
     "metadata": {},
     "output_type": "execute_result"
    }
   ],
   "source": [
    "g=int(f['Average Cost for two'][:1] * 0.05)\n",
    "g"
   ]
  },
  {
   "cell_type": "code",
   "execution_count": 32,
   "id": "37e37f3a",
   "metadata": {},
   "outputs": [
    {
     "data": {
      "text/html": [
       "<div>\n",
       "<style scoped>\n",
       "    .dataframe tbody tr th:only-of-type {\n",
       "        vertical-align: middle;\n",
       "    }\n",
       "\n",
       "    .dataframe tbody tr th {\n",
       "        vertical-align: top;\n",
       "    }\n",
       "\n",
       "    .dataframe thead th {\n",
       "        text-align: right;\n",
       "    }\n",
       "</style>\n",
       "<table border=\"1\" class=\"dataframe\">\n",
       "  <thead>\n",
       "    <tr style=\"text-align: right;\">\n",
       "      <th></th>\n",
       "      <th>Restaurant Name</th>\n",
       "      <th>City</th>\n",
       "      <th>Average Cost for two</th>\n",
       "    </tr>\n",
       "  </thead>\n",
       "  <tbody>\n",
       "    <tr>\n",
       "      <th>7543</th>\n",
       "      <td>Orient Express - Taj Palace Hotel</td>\n",
       "      <td>New Delhi</td>\n",
       "      <td>8000</td>\n",
       "    </tr>\n",
       "    <tr>\n",
       "      <th>4088</th>\n",
       "      <td>Tian - Asian Cuisine Studio - ITC Maurya</td>\n",
       "      <td>New Delhi</td>\n",
       "      <td>7000</td>\n",
       "    </tr>\n",
       "    <tr>\n",
       "      <th>4087</th>\n",
       "      <td>Bukhara - ITC Maurya</td>\n",
       "      <td>New Delhi</td>\n",
       "      <td>6500</td>\n",
       "    </tr>\n",
       "    <tr>\n",
       "      <th>8</th>\n",
       "      <td>Spiral - Sofitel Philippine Plaza Manila</td>\n",
       "      <td>Pasay City</td>\n",
       "      <td>6000</td>\n",
       "    </tr>\n",
       "  </tbody>\n",
       "</table>\n",
       "</div>"
      ],
      "text/plain": [
       "                               Restaurant Name        City  \\\n",
       "7543         Orient Express - Taj Palace Hotel   New Delhi   \n",
       "4088  Tian - Asian Cuisine Studio - ITC Maurya   New Delhi   \n",
       "4087                      Bukhara - ITC Maurya   New Delhi   \n",
       "8     Spiral - Sofitel Philippine Plaza Manila  Pasay City   \n",
       "\n",
       "      Average Cost for two  \n",
       "7543                  8000  \n",
       "4088                  7000  \n",
       "4087                  6500  \n",
       "8                     6000  "
      ]
     },
     "execution_count": 32,
     "metadata": {},
     "output_type": "execute_result"
    }
   ],
   "source": [
    "h= df[df['Average Cost for two'] <= g ][['Restaurant Name','City','Average Cost for two']].sort_values('Average Cost for two',ascending=False)\n",
    "h.head(4)"
   ]
  },
  {
   "cell_type": "markdown",
   "id": "bfda2598",
   "metadata": {},
   "source": [
    "# 6. What are the Cuisines avilable in Restaurant viking"
   ]
  },
  {
   "cell_type": "code",
   "execution_count": 33,
   "id": "16df60eb",
   "metadata": {},
   "outputs": [
    {
     "data": {
      "text/html": [
       "<div>\n",
       "<style scoped>\n",
       "    .dataframe tbody tr th:only-of-type {\n",
       "        vertical-align: middle;\n",
       "    }\n",
       "\n",
       "    .dataframe tbody tr th {\n",
       "        vertical-align: top;\n",
       "    }\n",
       "\n",
       "    .dataframe thead th {\n",
       "        text-align: right;\n",
       "    }\n",
       "</style>\n",
       "<table border=\"1\" class=\"dataframe\">\n",
       "  <thead>\n",
       "    <tr style=\"text-align: right;\">\n",
       "      <th></th>\n",
       "      <th>Restaurant Name</th>\n",
       "      <th>Cuisines</th>\n",
       "    </tr>\n",
       "  </thead>\n",
       "  <tbody>\n",
       "    <tr>\n",
       "      <th>7</th>\n",
       "      <td>Vikings</td>\n",
       "      <td>Seafood, Filipino, Asian, European</td>\n",
       "    </tr>\n",
       "  </tbody>\n",
       "</table>\n",
       "</div>"
      ],
      "text/plain": [
       "  Restaurant Name                            Cuisines\n",
       "7         Vikings  Seafood, Filipino, Asian, European"
      ]
     },
     "execution_count": 33,
     "metadata": {},
     "output_type": "execute_result"
    }
   ],
   "source": [
    "df[df['Restaurant Name']=='Vikings'][['Restaurant Name','Cuisines']]"
   ]
  },
  {
   "cell_type": "markdown",
   "id": "c9900fc2",
   "metadata": {},
   "source": [
    "# 7.  Best Resurant for Japanese food in New delhi"
   ]
  },
  {
   "cell_type": "code",
   "execution_count": 34,
   "id": "cd4fedd6",
   "metadata": {},
   "outputs": [
    {
     "data": {
      "text/html": [
       "<div>\n",
       "<style scoped>\n",
       "    .dataframe tbody tr th:only-of-type {\n",
       "        vertical-align: middle;\n",
       "    }\n",
       "\n",
       "    .dataframe tbody tr th {\n",
       "        vertical-align: top;\n",
       "    }\n",
       "\n",
       "    .dataframe thead th {\n",
       "        text-align: right;\n",
       "    }\n",
       "</style>\n",
       "<table border=\"1\" class=\"dataframe\">\n",
       "  <thead>\n",
       "    <tr style=\"text-align: right;\">\n",
       "      <th></th>\n",
       "      <th>Restaurant Name</th>\n",
       "      <th>Cuisines</th>\n",
       "      <th>Aggregate rating</th>\n",
       "    </tr>\n",
       "  </thead>\n",
       "  <tbody>\n",
       "    <tr>\n",
       "      <th>3102</th>\n",
       "      <td>Fuji Japanese Restaurant</td>\n",
       "      <td>Japanese</td>\n",
       "      <td>4.0</td>\n",
       "    </tr>\n",
       "  </tbody>\n",
       "</table>\n",
       "</div>"
      ],
      "text/plain": [
       "               Restaurant Name  Cuisines  Aggregate rating\n",
       "3102  Fuji Japanese Restaurant  Japanese               4.0"
      ]
     },
     "execution_count": 34,
     "metadata": {},
     "output_type": "execute_result"
    }
   ],
   "source": [
    "i= df[(df['country']=='India') & (df['City']=='New Delhi')&(df['Aggregate rating']>=4)][['Restaurant Name','Cuisines','Aggregate rating']]\n",
    "i[i['Cuisines'].isin(['Japanese'])]"
   ]
  },
  {
   "cell_type": "markdown",
   "id": "6c2bbe3a",
   "metadata": {},
   "source": [
    "# 8. which is the 3nd highest ordered cuisine in USA"
   ]
  },
  {
   "cell_type": "code",
   "execution_count": 35,
   "id": "fc6a92f3",
   "metadata": {},
   "outputs": [
    {
     "data": {
      "text/plain": [
       "'North Indian'"
      ]
     },
     "execution_count": 35,
     "metadata": {},
     "output_type": "execute_result"
    }
   ],
   "source": [
    "df[df['country']=='USA']['Cuisines'].value_counts().index[2]"
   ]
  },
  {
   "cell_type": "markdown",
   "id": "da92f1f7",
   "metadata": {},
   "source": [
    "# 9. Show Restaurants in India which has poor rating"
   ]
  },
  {
   "cell_type": "code",
   "execution_count": 36,
   "id": "448961f4",
   "metadata": {},
   "outputs": [
    {
     "data": {
      "text/html": [
       "<div>\n",
       "<style scoped>\n",
       "    .dataframe tbody tr th:only-of-type {\n",
       "        vertical-align: middle;\n",
       "    }\n",
       "\n",
       "    .dataframe tbody tr th {\n",
       "        vertical-align: top;\n",
       "    }\n",
       "\n",
       "    .dataframe thead th {\n",
       "        text-align: right;\n",
       "    }\n",
       "</style>\n",
       "<table border=\"1\" class=\"dataframe\">\n",
       "  <thead>\n",
       "    <tr style=\"text-align: right;\">\n",
       "      <th></th>\n",
       "      <th>Restaurant Name</th>\n",
       "      <th>City</th>\n",
       "      <th>Aggregate rating</th>\n",
       "    </tr>\n",
       "  </thead>\n",
       "  <tbody>\n",
       "    <tr>\n",
       "      <th>1138</th>\n",
       "      <td>Pind Balluchi</td>\n",
       "      <td>Ghaziabad</td>\n",
       "      <td>1.8</td>\n",
       "    </tr>\n",
       "    <tr>\n",
       "      <th>7507</th>\n",
       "      <td>Subway</td>\n",
       "      <td>New Delhi</td>\n",
       "      <td>1.9</td>\n",
       "    </tr>\n",
       "    <tr>\n",
       "      <th>4224</th>\n",
       "      <td>Muffins</td>\n",
       "      <td>New Delhi</td>\n",
       "      <td>1.9</td>\n",
       "    </tr>\n",
       "    <tr>\n",
       "      <th>9106</th>\n",
       "      <td>Moti Mahal Delux Tandoori Trail</td>\n",
       "      <td>Noida</td>\n",
       "      <td>2.0</td>\n",
       "    </tr>\n",
       "    <tr>\n",
       "      <th>5197</th>\n",
       "      <td>New Baba Da Dhaba</td>\n",
       "      <td>New Delhi</td>\n",
       "      <td>2.0</td>\n",
       "    </tr>\n",
       "  </tbody>\n",
       "</table>\n",
       "</div>"
      ],
      "text/plain": [
       "                      Restaurant Name       City  Aggregate rating\n",
       "1138                    Pind Balluchi  Ghaziabad               1.8\n",
       "7507                           Subway  New Delhi               1.9\n",
       "4224                          Muffins  New Delhi               1.9\n",
       "9106  Moti Mahal Delux Tandoori Trail      Noida               2.0\n",
       "5197                New Baba Da Dhaba  New Delhi               2.0"
      ]
     },
     "execution_count": 36,
     "metadata": {},
     "output_type": "execute_result"
    }
   ],
   "source": [
    "j= df[(df['country']==\"India\") & (df['Rating text']=='Poor')][['Restaurant Name','City','Aggregate rating']]\n",
    "j.sort_values('Aggregate rating').head()"
   ]
  },
  {
   "cell_type": "markdown",
   "id": "74ed16c3",
   "metadata": {},
   "source": [
    "# 10. How many Customers Rated the Service"
   ]
  },
  {
   "cell_type": "code",
   "execution_count": 37,
   "id": "5727e21a",
   "metadata": {},
   "outputs": [
    {
     "data": {
      "text/plain": [
       "False    7131\n",
       "True     2082\n",
       "Name: Rating color, dtype: int64"
      ]
     },
     "execution_count": 37,
     "metadata": {},
     "output_type": "execute_result"
    }
   ],
   "source": [
    "l=df['Rating color']=='White'\n",
    "l1=l.value_counts()\n",
    "l1"
   ]
  },
  {
   "cell_type": "code",
   "execution_count": 38,
   "id": "8070a9d8",
   "metadata": {},
   "outputs": [],
   "source": [
    "dict1={'Rated':'True','Not Rated':'False'}"
   ]
  },
  {
   "cell_type": "code",
   "execution_count": 39,
   "id": "4285a677",
   "metadata": {},
   "outputs": [
    {
     "data": {
      "image/png": "[encoded data removed]",
      "text/plain": [
       "<Figure size 500x300 with 1 Axes>"
      ]
     },
     "metadata": {},
     "output_type": "display_data"
    }
   ],
   "source": [
    "plt.figure(figsize=(5,3))\n",
    "plt.pie(l1, labels=dict1,autopct= \"%1.2f%%\")\n",
    "plt.show()"
   ]
  },
  {
   "cell_type": "markdown",
   "id": "12e6e86d",
   "metadata": {},
   "source": [
    "# 11. Rating got by Restaurent in New delhi"
   ]
  },
  {
   "cell_type": "code",
   "execution_count": 46,
   "id": "048d3afa",
   "metadata": {},
   "outputs": [
    {
     "data": {
      "text/plain": [
       "Orange        2328\n",
       "Yellow        1078\n",
       "Green          295\n",
       "Red             92\n",
       "Dark Green      27\n",
       "Name: Rating color, dtype: int64"
      ]
     },
     "execution_count": 46,
     "metadata": {},
     "output_type": "execute_result"
    }
   ],
   "source": [
    "m=df[(df['City']=='New Delhi')&(df['Rating color'].isin(['Orange','Yellow','Green','Dark Green','Red']))]['Rating color'].value_counts()\n",
    "m"
   ]
  },
  {
   "cell_type": "code",
   "execution_count": 47,
   "id": "e30f9f49",
   "metadata": {},
   "outputs": [
    {
     "data": {
      "image/png": "[encoded data removed]",
      "text/plain": [
       "<Figure size 600x400 with 1 Axes>"
      ]
     },
     "metadata": {},
     "output_type": "display_data"
    }
   ],
   "source": [
    "plt.figure(figsize=(6,4))\n",
    "plt.pie(m,labels=m.index, autopct='%1.2f%%')\n",
    "plt.show()"
   ]
  },
  {
   "cell_type": "code",
   "execution_count": 48,
   "id": "53554f2e",
   "metadata": {},
   "outputs": [
    {
     "data": {
      "text/html": [
       "<div>\n",
       "<style scoped>\n",
       "    .dataframe tbody tr th:only-of-type {\n",
       "        vertical-align: middle;\n",
       "    }\n",
       "\n",
       "    .dataframe tbody tr th {\n",
       "        vertical-align: top;\n",
       "    }\n",
       "\n",
       "    .dataframe thead th {\n",
       "        text-align: right;\n",
       "    }\n",
       "</style>\n",
       "<table border=\"1\" class=\"dataframe\">\n",
       "  <thead>\n",
       "    <tr style=\"text-align: right;\">\n",
       "      <th></th>\n",
       "      <th>Restaurant Name</th>\n",
       "      <th>City</th>\n",
       "      <th>Cuisines</th>\n",
       "      <th>Average Cost for two</th>\n",
       "      <th>Currency</th>\n",
       "      <th>Has Table booking</th>\n",
       "      <th>Has Online delivery</th>\n",
       "      <th>Price range</th>\n",
       "      <th>Aggregate rating</th>\n",
       "      <th>Rating color</th>\n",
       "      <th>Rating text</th>\n",
       "      <th>country</th>\n",
       "    </tr>\n",
       "  </thead>\n",
       "  <tbody>\n",
       "    <tr>\n",
       "      <th>0</th>\n",
       "      <td>Le Petit Souffle</td>\n",
       "      <td>Makati City</td>\n",
       "      <td>French, Japanese, Desserts</td>\n",
       "      <td>1100</td>\n",
       "      <td>Botswana Pula(P)</td>\n",
       "      <td>Yes</td>\n",
       "      <td>No</td>\n",
       "      <td>3</td>\n",
       "      <td>4.8</td>\n",
       "      <td>Dark Green</td>\n",
       "      <td>Excellent</td>\n",
       "      <td>indonasia</td>\n",
       "    </tr>\n",
       "    <tr>\n",
       "      <th>1</th>\n",
       "      <td>Izakaya Kikufuji</td>\n",
       "      <td>Makati City</td>\n",
       "      <td>Japanese</td>\n",
       "      <td>1200</td>\n",
       "      <td>Botswana Pula(P)</td>\n",
       "      <td>Yes</td>\n",
       "      <td>No</td>\n",
       "      <td>3</td>\n",
       "      <td>4.5</td>\n",
       "      <td>Dark Green</td>\n",
       "      <td>Excellent</td>\n",
       "      <td>indonasia</td>\n",
       "    </tr>\n",
       "    <tr>\n",
       "      <th>2</th>\n",
       "      <td>Heat - Edsa Shangri-La</td>\n",
       "      <td>Mandaluyong City</td>\n",
       "      <td>Seafood, Asian, Filipino, Indian</td>\n",
       "      <td>4000</td>\n",
       "      <td>Botswana Pula(P)</td>\n",
       "      <td>Yes</td>\n",
       "      <td>No</td>\n",
       "      <td>4</td>\n",
       "      <td>4.4</td>\n",
       "      <td>Green</td>\n",
       "      <td>Very Good</td>\n",
       "      <td>indonasia</td>\n",
       "    </tr>\n",
       "  </tbody>\n",
       "</table>\n",
       "</div>"
      ],
      "text/plain": [
       "          Restaurant Name              City                          Cuisines  \\\n",
       "0        Le Petit Souffle       Makati City        French, Japanese, Desserts   \n",
       "1        Izakaya Kikufuji       Makati City                          Japanese   \n",
       "2  Heat - Edsa Shangri-La  Mandaluyong City  Seafood, Asian, Filipino, Indian   \n",
       "\n",
       "   Average Cost for two          Currency Has Table booking  \\\n",
       "0                  1100  Botswana Pula(P)               Yes   \n",
       "1                  1200  Botswana Pula(P)               Yes   \n",
       "2                  4000  Botswana Pula(P)               Yes   \n",
       "\n",
       "  Has Online delivery  Price range  Aggregate rating Rating color Rating text  \\\n",
       "0                  No            3               4.8   Dark Green   Excellent   \n",
       "1                  No            3               4.5   Dark Green   Excellent   \n",
       "2                  No            4               4.4        Green   Very Good   \n",
       "\n",
       "     country  \n",
       "0  indonasia  \n",
       "1  indonasia  \n",
       "2  indonasia  "
      ]
     },
     "execution_count": 48,
     "metadata": {},
     "output_type": "execute_result"
    }
   ],
   "source": [
    "df.head(3)"
   ]
  },
  {
   "cell_type": "markdown",
   "id": "05cc290b",
   "metadata": {},
   "source": [
    "# 12. In how many Cities Do zomato have its service in USA"
   ]
  },
  {
   "cell_type": "code",
   "execution_count": 49,
   "id": "e861f34a",
   "metadata": {},
   "outputs": [
    {
     "data": {
      "text/plain": [
       "35"
      ]
     },
     "execution_count": 49,
     "metadata": {},
     "output_type": "execute_result"
    }
   ],
   "source": [
    "df[df['country']==\"USA\"]['City'].nunique()"
   ]
  },
  {
   "cell_type": "markdown",
   "id": "b1c1b356",
   "metadata": {},
   "source": [
    "# 13. Best reastarent in Bangalore where Table booking is avilable"
   ]
  },
  {
   "cell_type": "code",
   "execution_count": 50,
   "id": "3bcdc875",
   "metadata": {},
   "outputs": [
    {
     "data": {
      "text/html": [
       "<div>\n",
       "<style scoped>\n",
       "    .dataframe tbody tr th:only-of-type {\n",
       "        vertical-align: middle;\n",
       "    }\n",
       "\n",
       "    .dataframe tbody tr th {\n",
       "        vertical-align: top;\n",
       "    }\n",
       "\n",
       "    .dataframe thead th {\n",
       "        text-align: right;\n",
       "    }\n",
       "</style>\n",
       "<table border=\"1\" class=\"dataframe\">\n",
       "  <thead>\n",
       "    <tr style=\"text-align: right;\">\n",
       "      <th></th>\n",
       "      <th>Restaurant Name</th>\n",
       "      <th>Aggregate rating</th>\n",
       "    </tr>\n",
       "  </thead>\n",
       "  <tbody>\n",
       "    <tr>\n",
       "      <th>727</th>\n",
       "      <td>The Fatty Bao - Asian Gastro Bar</td>\n",
       "      <td>4.7</td>\n",
       "    </tr>\n",
       "    <tr>\n",
       "      <th>743</th>\n",
       "      <td>Big Brewsky</td>\n",
       "      <td>4.5</td>\n",
       "    </tr>\n",
       "    <tr>\n",
       "      <th>740</th>\n",
       "      <td>Flechazo</td>\n",
       "      <td>4.4</td>\n",
       "    </tr>\n",
       "    <tr>\n",
       "      <th>726</th>\n",
       "      <td>Sultans of Spice</td>\n",
       "      <td>4.1</td>\n",
       "    </tr>\n",
       "  </tbody>\n",
       "</table>\n",
       "</div>"
      ],
      "text/plain": [
       "                      Restaurant Name  Aggregate rating\n",
       "727  The Fatty Bao - Asian Gastro Bar               4.7\n",
       "743                       Big Brewsky               4.5\n",
       "740                          Flechazo               4.4\n",
       "726                  Sultans of Spice               4.1"
      ]
     },
     "execution_count": 50,
     "metadata": {},
     "output_type": "execute_result"
    }
   ],
   "source": [
    "df[(df['City']=='Bangalore')&(df['Rating text']>='Excellent')&(df['Has Table booking']=='Yes')][['Restaurant Name','Aggregate rating']].sort_values('Aggregate rating',ascending=False).head(4)"
   ]
  },
  {
   "cell_type": "code",
   "execution_count": null,
   "id": "4f8871c7",
   "metadata": {},
   "outputs": [],
   "source": []
  }
 ],
 "metadata": {
  "kernelspec": {
   "display_name": "Python 3 (ipykernel)",
   "language": "python",
   "name": "python3"
  },
  "language_info": {
   "codemirror_mode": {
    "name": "ipython",
    "version": 3
   },
   "file_extension": ".py",
   "mimetype": "text/x-python",
   "name": "python",
   "nbconvert_exporter": "python",
   "pygments_lexer": "ipython3",
   "version": "3.11.2"
  }
 },
 "nbformat": 4,
 "nbformat_minor": 5
}
